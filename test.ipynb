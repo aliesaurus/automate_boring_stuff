{
 "cells": [
  {
   "cell_type": "code",
   "execution_count": null,
   "metadata": {},
   "outputs": [],
   "source": [
    "message = 'Call me at 415-555-1011 tomorrow. 415-555-9999 is my office.'\n",
    "\n",
    "# Returns True if input in a phone number, else returns False.\n",
    "def isPhoneNumber(text):\n",
    "    if len(text) != 12:\n",
    "        return False\n",
    "    for i in range(0, 3):\n",
    "        if not text[i].isdecimal():\n",
    "            return False\n",
    "    if text[3] != '-':\n",
    "        return False\n",
    "    for i in range(4, 7):\n",
    "        if not text[i].isdecimal():\n",
    "            return False\n",
    "    if text[7] != '-':\n",
    "        return False\n",
    "    for i in range(8, 12):\n",
    "        if not text[i].isdecimal():\n",
    "            return False\n",
    "    return True\n",
    "\n",
    "# Searches through a string for phone numbers.\n",
    "def num_search(string):\n",
    "    for i in range(len(string)):\n",
    "        chunk = string[i:i+12]\n",
    "        if isPhoneNumber(chunk):\n",
    "            print('Phone number found: ' + chunk)\n",
    "    print('Done')\n",
    "\n",
    "print(message + '\\n')\n",
    "num_search(message)"
   ]
  },
  {
   "cell_type": "markdown",
   "metadata": {},
   "source": [
    "### re.compile(), .search(), .group(), .groups()"
   ]
  },
  {
   "cell_type": "code",
   "execution_count": null,
   "metadata": {},
   "outputs": [],
   "source": [
    "import re\n",
    "\n",
    "message = 'My number is 415-555-4242.'\n",
    "message_1 = 'My phone number is (415)-555-4242.'\n",
    "\n",
    "# Finds phone number in message\n",
    "\n",
    "print('Regex: (\\d\\d\\d)-(\\d\\d\\d-\\d\\d\\d\\d)')\n",
    "regex = re.compile(r'(\\d\\d\\d)-(\\d\\d\\d-\\d\\d\\d\\d)')\n",
    "mo = regex.search(message)\n",
    "print(mo.group() + '\\n')\n",
    "\n",
    "print('Regex: (\\(\\d\\d\\d\\))-(\\d\\d\\d-\\d\\d\\d\\d)')\n",
    "# Finds phone number in message_1.\n",
    "regex = re.compile(r'(\\(\\d\\d\\d\\))-(\\d\\d\\d-\\d\\d\\d\\d)')\n",
    "mo = regex.search(message_1)\n",
    "print(mo.group())"
   ]
  },
  {
   "cell_type": "markdown",
   "metadata": {},
   "source": [
    "### | (pipe)"
   ]
  },
  {
   "cell_type": "code",
   "execution_count": null,
   "metadata": {},
   "outputs": [],
   "source": [
    "message = 'My number is 415-555-4242.'\n",
    "message_1 = 'My phone number is 415 555 4242.'\n",
    "\n",
    "# Finds phone number in message and message_1. Uses pipe to indicate a - or ' '.\n",
    "print('Regex: ((\\d\\d\\d)(-|\\s)\\d\\d\\d(-|\\s)\\d\\d\\d\\d)')\n",
    "for item in [message, message_1]:\n",
    "    regex = re.compile(r'((\\d\\d\\d)(-|\\s)\\d\\d\\d(-|\\s)\\d\\d\\d\\d)')\n",
    "    mo = regex.search(item)\n",
    "    print(mo.group())"
   ]
  },
  {
   "cell_type": "markdown",
   "metadata": {},
   "source": [
    "### ? (optional)"
   ]
  },
  {
   "cell_type": "code",
   "execution_count": null,
   "metadata": {},
   "outputs": [],
   "source": [
    "message = 'My number is 415-555-4242.'\n",
    "message_1 = 'My phone number is 415 555 4242.'\n",
    "message_2 = 'My phone number is 4155554242.'\n",
    "\n",
    "# Finds phone number in message, message_1, and message_2. Uses ? to indicate - or ' ' is optional.\n",
    "print('Regex: ((\\d\\d\\d)(-|\\s)?\\d\\d\\d(-|\\s)?\\d\\d\\d\\d)')\n",
    "for item in [message, message_1, message_2]:\n",
    "    regex = re.compile(r'((\\d\\d\\d)(-|\\s)?\\d\\d\\d(-|\\s)?\\d\\d\\d\\d)')\n",
    "    mo = regex.search(item)\n",
    "    print(mo.group())"
   ]
  },
  {
   "cell_type": "markdown",
   "metadata": {},
   "source": [
    "### * (star), + (plus)"
   ]
  },
  {
   "cell_type": "code",
   "execution_count": null,
   "metadata": {},
   "outputs": [],
   "source": [
    "message = 'My number is 415-555-4242.'\n",
    "message_1 = 'My phone number is (415)-555-4242.'\n",
    "message_2 = 'My phone number is 4155554242.'\n",
    "\n",
    "# Finds phone number using \\d*.\n",
    "print('This is the result of using \\d* in place of \\d\\d\\d or \\d\\d\\d\\d:')\n",
    "for item in [message, message_1, message_2]:\n",
    "    regex = re.compile(r'((\\d*)(-|\\s)?\\d*(-|\\s)?\\d*)')\n",
    "    mo = regex.search(item)\n",
    "    print(mo.group())\n",
    "\n",
    "# Finds phone number using \\d+.\n",
    "print('This is the result of using \\d+ in place of \\d\\d\\d or \\d\\d\\d\\d:')\n",
    "for item in [message, message_1, message_2]:\n",
    "    regex = re.compile(r'((\\d+)(-|\\s)?\\d+(-|\\s)?\\d+)')\n",
    "    mo = regex.search(item)\n",
    "    print(mo.group())"
   ]
  },
  {
   "cell_type": "markdown",
   "metadata": {},
   "source": [
    "### {} (brace)"
   ]
  },
  {
   "cell_type": "code",
   "execution_count": null,
   "metadata": {},
   "outputs": [],
   "source": [
    "message = 'My number is 415-555-4242.'\n",
    "message_1 = 'My phone number is 415 555 4242.'\n",
    "message_2 = 'My phone number is 4155554242.'\n",
    "\n",
    "# Finds phone number using \\d{3} or \\d{4}\n",
    "print('This is the result of using \\d{3} for \\d\\d\\d and \\d{4} for \\d\\d\\d\\d:')\n",
    "for item in [message, message_1, message_2]:\n",
    "    regex = re.compile(r'((\\d{3})(-|\\s)?\\d{3}(-|\\s)?\\d{4})')\n",
    "    mo = regex.search(item)\n",
    "    print(mo.group())"
   ]
  },
  {
   "cell_type": "markdown",
   "metadata": {},
   "source": [
    "### .findall() and greedy matching\n",
    "\n",
    "https://pythex.org/"
   ]
  },
  {
   "cell_type": "code",
   "execution_count": null,
   "metadata": {},
   "outputs": [],
   "source": [
    "message = 'My number is 415-555-4242. My phone number is 415 555 4242. My phone number is 4155554242.'\n",
    "message_1 = 'hahahahaha'\n",
    "\n",
    "# Finds phone number using search(). This only returns the first number found.\n",
    "print('This is what search() returns:')\n",
    "regex = re.compile(r'((\\d{3})(-|\\s)?\\d{3}(-|\\s)?\\d{4})')\n",
    "mo = regex.search(message)\n",
    "print(mo.group())\n",
    "print('\\n')\n",
    "\n",
    "# Finds phone number using findall(). This only returns a list containing tuples of all groups.\n",
    "print('This is what findall() returns:')\n",
    "regex = re.compile(r'((\\d{3})(-|\\s)?\\d{3}(-|\\s)?\\d{4})')\n",
    "mo = regex.findall(message)\n",
    "print(mo)\n",
    "print('\\n')"
   ]
  },
  {
   "cell_type": "code",
   "execution_count": null,
   "metadata": {},
   "outputs": [],
   "source": [
    "print('This is the message: ' + message_1 + '\\n')\n",
    "# Greedy\n",
    "print('Regex: (ha){3,5}')\n",
    "regex = re.compile(r'(ha){3,5}')\n",
    "mo = regex.search(message_1)\n",
    "print(mo.group())\n",
    "\n",
    "# Not greedy\n",
    "print('Regex: (ha){3,5}?')\n",
    "regex = re.compile(r'(ha){3,5}?')\n",
    "mo = regex.search(message_1)\n",
    "print(mo.group())"
   ]
  },
  {
   "cell_type": "markdown",
   "metadata": {},
   "source": [
    "### /d, /D, /w, /W, /s, /S"
   ]
  },
  {
   "cell_type": "code",
   "execution_count": null,
   "metadata": {},
   "outputs": [],
   "source": [
    "# \\d = digit\n",
    "# \\w = letter character, cap or lower, _\n",
    "# \\s = ' '\n",
    "# \\D = not digit\n",
    "# \\W = not letter\n",
    "# \\S = not space"
   ]
  },
  {
   "cell_type": "code",
   "execution_count": null,
   "metadata": {},
   "outputs": [],
   "source": [
    "message = '''This is the shopping list for Christmas last year: 12 drummers, 11 pipers, 10 lords, 9 ladies, \n",
    "8 maids, 7 swans, 6 geese, 5 rings, 4 birds, 3 hens, 2 doves, 1 partridge'''\n",
    "\n",
    "# Returns a list of all gifts from last year Christmas.\n",
    "print('This is the message: ' + message + '\\n')\n",
    "print('Regex: \\d+\\s\\w+')\n",
    "regex = re.compile(r'\\d+\\s\\w+')\n",
    "mo = regex.findall(message)\n",
    "print(mo)"
   ]
  },
  {
   "cell_type": "markdown",
   "metadata": {},
   "source": [
    "### [ ] (brace) and [^ ] (not)"
   ]
  },
  {
   "cell_type": "code",
   "execution_count": null,
   "metadata": {},
   "outputs": [],
   "source": [
    "message = '''Eunoia is the shortest word in English to contain all five vowels, \n",
    "and the word quite literally means beautiful thinking.'''\n",
    "\n",
    "print('This is the message:')\n",
    "print(message)\n",
    "print('\\n')\n",
    "\n",
    "# Returns a list of all vowels in message.\n",
    "print('Regex: [AEIOUaeiou]')\n",
    "regex = re.compile(r'[AEIOUaeiou]')\n",
    "mo = regex.findall(message)\n",
    "print(mo)\n",
    "\n",
    "# Returns a list of all consonants in message. Uses \n",
    "print('Regex: [^AEIOUaeiou\\s.]): ')\n",
    "regex = re.compile(r'[^AEIOUaeiou\\s.]')\n",
    "mo = regex.findall(message)\n",
    "print(mo)"
   ]
  },
  {
   "cell_type": "markdown",
   "metadata": {},
   "source": [
    "### ^ (caret) and $ (dollar sign)"
   ]
  },
  {
   "cell_type": "code",
   "execution_count": null,
   "metadata": {},
   "outputs": [],
   "source": [
    "message = '''Eunoia is the shortest word in English to contain all five vowels, \n",
    "and the word quite literally means beautiful thinking.'''\n",
    "\n",
    "print('This is the message: \\n' + message + '\\n')\n",
    "\n",
    "print('Regex: ^Eunoia is ')\n",
    "regex = re.compile(r'^Eunoia is')\n",
    "mo = regex.findall(message)\n",
    "print(mo)\n",
    "\n",
    "print('Regex: Eunoia is$')\n",
    "regex = re.compile(r'Eunoia$')\n",
    "mo = regex.findall(message)\n",
    "print(mo)\n",
    "\n",
    "print('Regex: ^beautiful thinking.')\n",
    "regex = re.compile(r'^beautiful thinking.')\n",
    "mo = regex.findall(message)\n",
    "print(mo)\n",
    "\n",
    "print('Regex: beautiful thinking.$')\n",
    "regex = re.compile(r'beautiful thinking.$')\n",
    "mo = regex.findall(message)\n",
    "print(mo)"
   ]
  },
  {
   "cell_type": "markdown",
   "metadata": {},
   "source": [
    "### . (wildcard)"
   ]
  },
  {
   "cell_type": "code",
   "execution_count": null,
   "metadata": {},
   "outputs": [],
   "source": [
    "message = 'The cat in the hat eats on the flat mat.'\n",
    "\n",
    "# Returns all words with -at.\n",
    "print('Regex: .at')\n",
    "regex = re.compile(r'(.at)')\n",
    "mo = regex.findall(message)\n",
    "print(mo)\n",
    "\n",
    "print('\\n')\n",
    "\n",
    "# Returns all words with -at.\n",
    "print('Or:\\nRegex: \\w*at')\n",
    "regex = re.compile(r'\\w*at')\n",
    "mo = regex.findall(message)\n",
    "print(mo)"
   ]
  },
  {
   "cell_type": "markdown",
   "metadata": {},
   "source": [
    "### re.DOTALL, re.I, re.VERBOSE"
   ]
  },
  {
   "cell_type": "code",
   "execution_count": null,
   "metadata": {},
   "outputs": [],
   "source": [
    "message = 'The apparition of these faces in the crowd: \\nPetals on a wet, black bough. \\n-Ezra Pound'\n",
    "\n",
    "print('This is the message: ' + '\\n' + message + '\\n')\n",
    "\n",
    "# Finds everything, stoping at any new lines.\n",
    "print('Regex: .*')\n",
    "regex = re.compile(r'(.*)')\n",
    "mo = regex.search(message)\n",
    "print(mo.group())\n",
    "\n",
    "print('\\n')\n",
    "\n",
    "# Finds everything.\n",
    "print('Regex: .* with re.DOTALL')\n",
    "regex = re.compile(r'(.*)', re.DOTALL)\n",
    "mo = regex.search(message)\n",
    "print(mo.group())"
   ]
  },
  {
   "cell_type": "code",
   "execution_count": null,
   "metadata": {},
   "outputs": [],
   "source": [
    "favorite_pokemon = \"'Marshtomp', 'MarshTomp', 'MARSHTOMP', 'marshtomp'\"\n",
    "\n",
    "print('This is the message: ' + favorite_pokemon + '\\n')\n",
    "\n",
    "# Finds marshtomp in any combination of cases.\n",
    "print('Regex: marshtomp with re.I')\n",
    "regex = re.compile(r'marshtomp', re.I)\n",
    "mo = regex.findall(favorite_pokemon)\n",
    "print(mo)"
   ]
  },
  {
   "cell_type": "code",
   "execution_count": null,
   "metadata": {},
   "outputs": [],
   "source": [
    "message = '''415-555-4242, 415 555 4242, 4155554242, (415)-555-4242, 415.555.4242, (415) 555-4242, 555-4242, +13 415 555 4242'''\n",
    "\n",
    "book = re.compile(r'''(\n",
    "    (\\d{3}|\\(\\d{3}\\))?            # area code\n",
    "    (\\s|-|\\.)?                    # separator\n",
    "    \\d{3}                         # first 3 digits\n",
    "    (\\s|-|\\.)                     # separator\n",
    "    \\d{4}                         # last 4 digits\n",
    "    (\\s*(ext|x|ext.)\\s*\\d{2,5})?  # extension\n",
    "    )''', re.VERBOSE)\n",
    "\n",
    "\n",
    "regex = re.compile(r'''\n",
    "    (\\s?(\\+\\d+)? # international\n",
    "    (-|\\s|\\.)? # international separator\n",
    "    (\\(?\\d{3}\\)?)? # area code (optional)\n",
    "    (-|\\s|\\.)? # separator\n",
    "    \\d{3} # next 3 digits\n",
    "    (-|\\s|\\.)? # separator\n",
    "    \\d{4} # last four digits\n",
    "    )''', re.VERBOSE)\n",
    "\n",
    "def result_filter(lst):\n",
    "    return [item[0] for item in lst]\n",
    "\n",
    "mo = book.findall(message)\n",
    "print('This is the results of using the regex from the book: ')\n",
    "print(mo)\n",
    "print('Filtered:')\n",
    "print(result_filter(mo))\n",
    "print('\\n')\n",
    "result = regex.findall(message)\n",
    "print('This is the results of using the regex we created: ')\n",
    "print(result)\n",
    "print('Filtered:')\n",
    "print(result_filter(result))"
   ]
  },
  {
   "cell_type": "markdown",
   "metadata": {},
   "source": [
    "### .sub()"
   ]
  },
  {
   "cell_type": "code",
   "execution_count": null,
   "metadata": {},
   "outputs": [],
   "source": [
    "message = 'Agent Romanov gave the secret documents to Agent Barton.'\n",
    "\n",
    "# Replace all 'Agent + name' with CENSORED\n",
    "regex = re.compile(r'Agent\\s\\w+')\n",
    "mo = regex.sub('CENSORED', message)\n",
    "print(mo)"
   ]
  },
  {
   "cell_type": "code",
   "execution_count": null,
   "metadata": {},
   "outputs": [],
   "source": []
  }
 ],
 "metadata": {
  "kernelspec": {
   "display_name": "Python 3",
   "language": "python",
   "name": "python3"
  },
  "language_info": {
   "codemirror_mode": {
    "name": "ipython",
    "version": 3
   },
   "file_extension": ".py",
   "mimetype": "text/x-python",
   "name": "python",
   "nbconvert_exporter": "python",
   "pygments_lexer": "ipython3",
   "version": "3.7.6"
  }
 },
 "nbformat": 4,
 "nbformat_minor": 4
}
